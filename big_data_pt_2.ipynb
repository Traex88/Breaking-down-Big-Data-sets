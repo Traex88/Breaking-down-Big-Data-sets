{
  "nbformat": 4,
  "nbformat_minor": 0,
  "metadata": {
    "colab": {
      "name": "big data pt 2.ipynb",
      "provenance": [],
      "collapsed_sections": []
    },
    "kernelspec": {
      "name": "python3",
      "display_name": "Python 3"
    },
    "language_info": {
      "name": "python"
    }
  },
  "cells": [
    {
      "cell_type": "code",
      "metadata": {
        "colab": {
          "base_uri": "https://localhost:8080/"
        },
        "id": "N14JFEKumZ0W",
        "outputId": "e6fc4744-ff12-4752-8a66-69dde72a0b13"
      },
      "source": [
        "import os\n",
        "# Find the latest version of spark 3.0  from http://www-us.apache.org/dist/spark/ and enter as the spark version\n",
        "# For example:\n",
        "# spark_version = 'spark-3.0.1'\n",
        "spark_version = 'spark-3.1.1'\n",
        "os.environ['SPARK_VERSION']=spark_version\n",
        "\n",
        "# Install Spark and Java\n",
        "!apt-get update\n",
        "!apt-get install openjdk-11-jdk-headless -qq > /dev/null\n",
        "!wget -q http://www-us.apache.org/dist/spark/$SPARK_VERSION/$SPARK_VERSION-bin-hadoop2.7.tgz\n",
        "!tar xf $SPARK_VERSION-bin-hadoop2.7.tgz\n",
        "!pip install -q findspark\n",
        "\n",
        "# Set Environment Variables\n",
        "import os\n",
        "os.environ[\"JAVA_HOME\"] = \"/usr/lib/jvm/java-11-openjdk-amd64\"\n",
        "os.environ[\"SPARK_HOME\"] = f\"/content/{spark_version}-bin-hadoop2.7\"\n",
        "\n",
        "# Start a SparkSession\n",
        "import findspark\n",
        "findspark.init()\n"
      ],
      "execution_count": null,
      "outputs": [
        {
          "output_type": "stream",
          "text": [
            "\r0% [Working]\r            \rGet:1 https://cloud.r-project.org/bin/linux/ubuntu bionic-cran40/ InRelease [3,626 B]\n",
            "\r0% [Connecting to archive.ubuntu.com (91.189.88.142)] [Waiting for headers] [1 \r0% [Connecting to archive.ubuntu.com (91.189.88.142)] [Waiting for headers] [Co\r0% [1 InRelease gpgv 3,626 B] [Connecting to archive.ubuntu.com (91.189.88.142)\r                                                                               \rIgn:2 https://developer.download.nvidia.com/compute/cuda/repos/ubuntu1804/x86_64  InRelease\n",
            "Get:3 http://security.ubuntu.com/ubuntu bionic-security InRelease [88.7 kB]\n",
            "Ign:4 https://developer.download.nvidia.com/compute/machine-learning/repos/ubuntu1804/x86_64  InRelease\n",
            "Get:5 https://developer.download.nvidia.com/compute/cuda/repos/ubuntu1804/x86_64  Release [697 B]\n",
            "Hit:6 https://developer.download.nvidia.com/compute/machine-learning/repos/ubuntu1804/x86_64  Release\n",
            "Get:7 https://developer.download.nvidia.com/compute/cuda/repos/ubuntu1804/x86_64  Release.gpg [836 B]\n",
            "Get:8 http://ppa.launchpad.net/c2d4u.team/c2d4u4.0+/ubuntu bionic InRelease [15.9 kB]\n",
            "Hit:9 http://archive.ubuntu.com/ubuntu bionic InRelease\n",
            "Get:10 https://cloud.r-project.org/bin/linux/ubuntu bionic-cran40/ Packages [56.8 kB]\n",
            "Get:11 http://archive.ubuntu.com/ubuntu bionic-updates InRelease [88.7 kB]\n",
            "Hit:13 http://ppa.launchpad.net/cran/libgit2/ubuntu bionic InRelease\n",
            "Ign:14 https://developer.download.nvidia.com/compute/cuda/repos/ubuntu1804/x86_64  Packages\n",
            "Get:14 https://developer.download.nvidia.com/compute/cuda/repos/ubuntu1804/x86_64  Packages [772 kB]\n",
            "Hit:15 http://ppa.launchpad.net/deadsnakes/ppa/ubuntu bionic InRelease\n",
            "Get:16 http://archive.ubuntu.com/ubuntu bionic-backports InRelease [74.6 kB]\n",
            "Get:17 http://security.ubuntu.com/ubuntu bionic-security/main amd64 Packages [2,150 kB]\n",
            "Get:18 http://ppa.launchpad.net/graphics-drivers/ppa/ubuntu bionic InRelease [21.3 kB]\n",
            "Get:19 http://security.ubuntu.com/ubuntu bionic-security/restricted amd64 Packages [423 kB]\n",
            "Get:20 http://security.ubuntu.com/ubuntu bionic-security/universe amd64 Packages [1,411 kB]\n",
            "Get:21 http://ppa.launchpad.net/c2d4u.team/c2d4u4.0+/ubuntu bionic/main Sources [1,767 kB]\n",
            "Get:22 http://archive.ubuntu.com/ubuntu bionic-updates/main amd64 Packages [2,582 kB]\n",
            "Get:23 http://archive.ubuntu.com/ubuntu bionic-updates/universe amd64 Packages [2,183 kB]\n",
            "Get:24 http://ppa.launchpad.net/c2d4u.team/c2d4u4.0+/ubuntu bionic/main amd64 Packages [904 kB]\n",
            "Get:25 http://archive.ubuntu.com/ubuntu bionic-updates/restricted amd64 Packages [452 kB]\n",
            "Get:26 http://ppa.launchpad.net/graphics-drivers/ppa/ubuntu bionic/main amd64 Packages [41.5 kB]\n",
            "Fetched 13.0 MB in 5s (2,857 kB/s)\n",
            "Reading package lists... Done\n"
          ],
          "name": "stdout"
        }
      ]
    },
    {
      "cell_type": "code",
      "metadata": {
        "colab": {
          "base_uri": "https://localhost:8080/"
        },
        "id": "tDCe-aEbme37",
        "outputId": "697ffc67-3df6-4410-98ed-78adf8a49e2a"
      },
      "source": [
        "!wget https://jdbc.postgresql.org/download/postgresql-42.2.9.jar"
      ],
      "execution_count": null,
      "outputs": [
        {
          "output_type": "stream",
          "text": [
            "--2021-05-18 20:20:12--  https://jdbc.postgresql.org/download/postgresql-42.2.9.jar\n",
            "Resolving jdbc.postgresql.org (jdbc.postgresql.org)... 72.32.157.228, 2001:4800:3e1:1::228\n",
            "Connecting to jdbc.postgresql.org (jdbc.postgresql.org)|72.32.157.228|:443... connected.\n",
            "HTTP request sent, awaiting response... 200 OK\n",
            "Length: 914037 (893K) [application/java-archive]\n",
            "Saving to: ‘postgresql-42.2.9.jar’\n",
            "\n",
            "postgresql-42.2.9.j 100%[===================>] 892.61K  4.36MB/s    in 0.2s    \n",
            "\n",
            "2021-05-18 20:20:12 (4.36 MB/s) - ‘postgresql-42.2.9.jar’ saved [914037/914037]\n",
            "\n"
          ],
          "name": "stdout"
        }
      ]
    },
    {
      "cell_type": "code",
      "metadata": {
        "id": "iMunB7Zjme2E"
      },
      "source": [
        "from pyspark.sql import SparkSession\n",
        "spark = SparkSession.builder.appName(\"CloudETL\").config(\"spark.driver.extraClassPath\",\"/content/postgresql-42.2.9.jar\").getOrCreate()"
      ],
      "execution_count": null,
      "outputs": []
    },
    {
      "cell_type": "code",
      "metadata": {
        "colab": {
          "base_uri": "https://localhost:8080/"
        },
        "id": "4OZ0Ei4-me0J",
        "outputId": "52de90e4-5ac1-4197-96ff-4bf08507f980"
      },
      "source": [
        "from pyspark import SparkFiles\n",
        "# load in .tsv file \n",
        "# url = \"https://traex-data-homework.s3.us-east-2.amazonaws.com/amazon_reviews_us_Shoes_v1_00.tsv\"\n",
        "spark.sparkContext.addFile(\"https://traex-data-homework.s3.us-east-2.amazonaws.com/amazon_reviews_us_Shoes_v1_00.tsv\")\n",
        "_\n",
        "df = spark.read.format(\"csv\").option(\"inferSchema\", \"true\").option('header', 'true').option(\"delimiter\",\"\\t\").csv(SparkFiles.get(\"amazon_reviews_us_Shoes_v1_00.tsv\"))\n",
        "df.show(10)"
      ],
      "execution_count": null,
      "outputs": [
        {
          "output_type": "stream",
          "text": [
            "+-----------+-----------+--------------+----------+--------------+--------------------+----------------+-----------+-------------+-----------+----+-----------------+--------------------+--------------------+-----------+\n",
            "|marketplace|customer_id|     review_id|product_id|product_parent|       product_title|product_category|star_rating|helpful_votes|total_votes|vine|verified_purchase|     review_headline|         review_body|review_date|\n",
            "+-----------+-----------+--------------+----------+--------------+--------------------+----------------+-----------+-------------+-----------+----+-----------------+--------------------+--------------------+-----------+\n",
            "|         US|   18069663|R3P2HIOQCIN5ZU|B000XB31C0|     265024781|Minnetonka Men's ...|           Shoes|          1|            0|          0|   N|                Y|                   .|Do not buy: reall...| 2015-08-31|\n",
            "|         US|   16251825|R12VVR0WH5Q24V|B00CFYZH5W|     259035853|Teva Men's Pajaro...|           Shoes|          5|            0|          0|   N|                Y|     super flip flop|provides great cu...| 2015-08-31|\n",
            "|         US|   20381037| RNCCKB6TV5EEF|B00S8JNN3Q|     666066660|Anne Klein Perfec...|           Shoes|          4|            0|          0|   N|                Y| Great clutch purse!|It's perfect if y...| 2015-08-31|\n",
            "|         US|     108364|R2NZXYIVCGB13W|B00XFBPOQG|     448483263|adidas Men's 10K ...|           Shoes|          5|            0|          6|   N|                Y|              Badass|  Getting what u see| 2015-08-31|\n",
            "|         US|   45449350|R2EQ1TG9IT3OEQ|B00SW64Y9W|       7853171|OverBling Sneaker...|           Shoes|          3|            0|          0|   N|                Y|         Three Stars|               small| 2015-08-31|\n",
            "|         US|   19324665|R1WXA9JSC2H1U1|B011F9E6LI|      14311457|MESSI 15.3 FG/AG ...|           Shoes|          5|            1|          1|   N|                Y|          Five Stars|My 13 year old so...| 2015-08-31|\n",
            "|         US|   50073594|R12ENYLFGGNWRV|B00HAUP1OI|     264821602|Hoka One One Men'...|           Shoes|          5|            1|          1|   N|                Y|Finally, some cus...|Ok, I have been s...| 2015-08-31|\n",
            "|         US|   21706057|R2R07E5PNXEUO5|B00L1RKOKW|     767118055|Olukai Nohea Mesh...|           Shoes|          4|            0|          0|   N|                Y|good deal, but ha...|I went a full siz...| 2015-08-31|\n",
            "|         US|   13708216|R27BA52AKWMWN3|B005WA9MSE|     813856438|Carolina Mens 6\" ...|           Shoes|          5|            0|          0|   N|                Y|... would have to...|I would have to s...| 2015-08-31|\n",
            "|         US|   40542649| RLF8DOID2KD5O|B00BEYQI5C|     661491213|Alegria Women's S...|           Shoes|          3|            0|          0|   N|                Y|           Too small|The size is misle...| 2015-08-31|\n",
            "+-----------+-----------+--------------+----------+--------------+--------------------+----------------+-----------+-------------+-----------+----+-----------------+--------------------+--------------------+-----------+\n",
            "only showing top 10 rows\n",
            "\n"
          ],
          "name": "stdout"
        }
      ]
    },
    {
      "cell_type": "code",
      "metadata": {
        "colab": {
          "base_uri": "https://localhost:8080/"
        },
        "id": "h95XLEgfInC8",
        "outputId": "548a6a1c-1aa4-4a17-9cc2-46dc8df2b3cc"
      },
      "source": [
        "df.count()"
      ],
      "execution_count": null,
      "outputs": [
        {
          "output_type": "execute_result",
          "data": {
            "text/plain": [
              "4366916"
            ]
          },
          "metadata": {
            "tags": []
          },
          "execution_count": 5
        }
      ]
    },
    {
      "cell_type": "code",
      "metadata": {
        "colab": {
          "base_uri": "https://localhost:8080/"
        },
        "id": "yLEz55mjIm1b",
        "outputId": "eeee749a-7f4a-4c22-f310-136e9cf00968"
      },
      "source": [
        "df.printSchema()"
      ],
      "execution_count": null,
      "outputs": [
        {
          "output_type": "stream",
          "text": [
            "root\n",
            " |-- marketplace: string (nullable = true)\n",
            " |-- customer_id: integer (nullable = true)\n",
            " |-- review_id: string (nullable = true)\n",
            " |-- product_id: string (nullable = true)\n",
            " |-- product_parent: integer (nullable = true)\n",
            " |-- product_title: string (nullable = true)\n",
            " |-- product_category: string (nullable = true)\n",
            " |-- star_rating: integer (nullable = true)\n",
            " |-- helpful_votes: integer (nullable = true)\n",
            " |-- total_votes: integer (nullable = true)\n",
            " |-- vine: string (nullable = true)\n",
            " |-- verified_purchase: string (nullable = true)\n",
            " |-- review_headline: string (nullable = true)\n",
            " |-- review_body: string (nullable = true)\n",
            " |-- review_date: string (nullable = true)\n",
            "\n"
          ],
          "name": "stdout"
        }
      ]
    },
    {
      "cell_type": "code",
      "metadata": {
        "id": "nEuyjlaOmeyF"
      },
      "source": [
        "df.createOrReplaceTempView('shoes')"
      ],
      "execution_count": null,
      "outputs": []
    },
    {
      "cell_type": "code",
      "metadata": {
        "colab": {
          "base_uri": "https://localhost:8080/"
        },
        "id": "QECwilhhmev4",
        "outputId": "c9996656-404d-4505-ecc6-1d34069c43d1"
      },
      "source": [
        "review_id_table = spark.sql(\"\"\"select review_id, customer_id, product_id, product_parent, to_date(review_date) from shoes\n",
        "\n",
        "\n",
        "\n",
        "\"\"\").show()"
      ],
      "execution_count": null,
      "outputs": [
        {
          "output_type": "stream",
          "text": [
            "+--------------+-----------+----------+--------------+-----------+\n",
            "|     review_id|customer_id|product_id|product_parent|review_date|\n",
            "+--------------+-----------+----------+--------------+-----------+\n",
            "|R3P2HIOQCIN5ZU|   18069663|B000XB31C0|     265024781| 2015-08-31|\n",
            "|R12VVR0WH5Q24V|   16251825|B00CFYZH5W|     259035853| 2015-08-31|\n",
            "| RNCCKB6TV5EEF|   20381037|B00S8JNN3Q|     666066660| 2015-08-31|\n",
            "|R2NZXYIVCGB13W|     108364|B00XFBPOQG|     448483263| 2015-08-31|\n",
            "|R2EQ1TG9IT3OEQ|   45449350|B00SW64Y9W|       7853171| 2015-08-31|\n",
            "|R1WXA9JSC2H1U1|   19324665|B011F9E6LI|      14311457| 2015-08-31|\n",
            "|R12ENYLFGGNWRV|   50073594|B00HAUP1OI|     264821602| 2015-08-31|\n",
            "|R2R07E5PNXEUO5|   21706057|B00L1RKOKW|     767118055| 2015-08-31|\n",
            "|R27BA52AKWMWN3|   13708216|B005WA9MSE|     813856438| 2015-08-31|\n",
            "| RLF8DOID2KD5O|   40542649|B00BEYQI5C|     661491213| 2015-08-31|\n",
            "|R369CEXHXHC6NQ|   13409446|B00EYAFTCQ|     332158165| 2015-08-31|\n",
            "|R171PPIJXFONVI|    9451727|B00I0QHY32|      49243908| 2015-08-31|\n",
            "|R2JDNM8F2P06FU|     193731|B010FZZKYA|     161497902| 2015-08-31|\n",
            "|R2W977FO4M97XT|   34798634|B00V8B30K2|     759958795| 2015-08-31|\n",
            "|R3AM24QPLI28UY|   37235551|B00LAVB1TC|     910150896| 2015-08-31|\n",
            "| REDVXSFYVNT5T|   27081399|B003C1P8B0|     762792587| 2015-08-31|\n",
            "|R14AIIK7D6ENDZ|     120678|B000W3UL7W|     123724495| 2015-08-31|\n",
            "|R3B1NURKMCVAL1|   22272389|B00LX65PQO|     848850234| 2015-08-31|\n",
            "|R14Q1GZGV10IMX|   19584241|B00BEE7N3I|     211637196| 2015-08-31|\n",
            "| R9BHBB06QD6TM|   12334573|B008NCHMBW|     138572112| 2015-08-31|\n",
            "+--------------+-----------+----------+--------------+-----------+\n",
            "only showing top 20 rows\n",
            "\n"
          ],
          "name": "stdout"
        }
      ]
    },
    {
      "cell_type": "code",
      "metadata": {
        "colab": {
          "base_uri": "https://localhost:8080/"
        },
        "id": "WfT5PuQZmet0",
        "outputId": "1b55a0ca-e20e-467b-c23e-a19bbe48bc37"
      },
      "source": [
        "products = spark.sql(\"\"\" select product_id, product_title from shoes\n",
        "\n",
        "\n",
        "\"\"\").show()"
      ],
      "execution_count": null,
      "outputs": [
        {
          "output_type": "stream",
          "text": [
            "+----------+--------------------+\n",
            "|product_id|       product_title|\n",
            "+----------+--------------------+\n",
            "|B000XB31C0|Minnetonka Men's ...|\n",
            "|B00CFYZH5W|Teva Men's Pajaro...|\n",
            "|B00S8JNN3Q|Anne Klein Perfec...|\n",
            "|B00XFBPOQG|adidas Men's 10K ...|\n",
            "|B00SW64Y9W|OverBling Sneaker...|\n",
            "|B011F9E6LI|MESSI 15.3 FG/AG ...|\n",
            "|B00HAUP1OI|Hoka One One Men'...|\n",
            "|B00L1RKOKW|Olukai Nohea Mesh...|\n",
            "|B005WA9MSE|Carolina Mens 6\" ...|\n",
            "|B00BEYQI5C|Alegria Women's S...|\n",
            "|B00EYAFTCQ|Naturalizer Women...|\n",
            "|B00I0QHY32|Forever Link Wome...|\n",
            "|B010FZZKYA|Versace Collectio...|\n",
            "|B00V8B30K2|Twisted Girl's Ch...|\n",
            "|B00LAVB1TC|Travel Smart Hand...|\n",
            "|B003C1P8B0|Saucony Originals...|\n",
            "|B000W3UL7W|Dr. Marten's Wome...|\n",
            "|B00LX65PQO|Skechers Performa...|\n",
            "|B00BEE7N3I|Hi-Tec Kid's Nepa...|\n",
            "|B008NCHMBW|Foot Sox Original...|\n",
            "+----------+--------------------+\n",
            "only showing top 20 rows\n",
            "\n"
          ],
          "name": "stdout"
        }
      ]
    },
    {
      "cell_type": "code",
      "metadata": {
        "colab": {
          "base_uri": "https://localhost:8080/"
        },
        "id": "CYRKq1pNmerx",
        "outputId": "c1a500b6-6d08-41b1-88f9-74b16b909597"
      },
      "source": [
        "vine_table = spark.sql(\"\"\" select review_id, star_rating, helpful_votes, total_votes, vine from shoes\n",
        "\n",
        "\n",
        "\"\"\").show()"
      ],
      "execution_count": null,
      "outputs": [
        {
          "output_type": "stream",
          "text": [
            "+--------------+-----------+-------------+-----------+----+\n",
            "|     review_id|star_rating|helpful_votes|total_votes|vine|\n",
            "+--------------+-----------+-------------+-----------+----+\n",
            "|R3P2HIOQCIN5ZU|          1|            0|          0|   N|\n",
            "|R12VVR0WH5Q24V|          5|            0|          0|   N|\n",
            "| RNCCKB6TV5EEF|          4|            0|          0|   N|\n",
            "|R2NZXYIVCGB13W|          5|            0|          6|   N|\n",
            "|R2EQ1TG9IT3OEQ|          3|            0|          0|   N|\n",
            "|R1WXA9JSC2H1U1|          5|            1|          1|   N|\n",
            "|R12ENYLFGGNWRV|          5|            1|          1|   N|\n",
            "|R2R07E5PNXEUO5|          4|            0|          0|   N|\n",
            "|R27BA52AKWMWN3|          5|            0|          0|   N|\n",
            "| RLF8DOID2KD5O|          3|            0|          0|   N|\n",
            "|R369CEXHXHC6NQ|          5|            0|          0|   N|\n",
            "|R171PPIJXFONVI|          5|            0|          0|   N|\n",
            "|R2JDNM8F2P06FU|          4|            1|          1|   N|\n",
            "|R2W977FO4M97XT|          5|            0|          1|   N|\n",
            "|R3AM24QPLI28UY|          2|            1|          2|   N|\n",
            "| REDVXSFYVNT5T|          5|            0|          0|   N|\n",
            "|R14AIIK7D6ENDZ|          5|            0|          0|   N|\n",
            "|R3B1NURKMCVAL1|          3|            2|          2|   N|\n",
            "|R14Q1GZGV10IMX|          4|            0|          0|   N|\n",
            "| R9BHBB06QD6TM|          1|            2|          2|   N|\n",
            "+--------------+-----------+-------------+-----------+----+\n",
            "only showing top 20 rows\n",
            "\n"
          ],
          "name": "stdout"
        }
      ]
    },
    {
      "cell_type": "code",
      "metadata": {
        "colab": {
          "base_uri": "https://localhost:8080/"
        },
        "id": "nUDtapAImepv",
        "outputId": "2c47b4ac-f30f-4076-80d7-b544b77891a7"
      },
      "source": [
        "customers = spark.sql(\"\"\" select customer_id,count(customer_id) from shoes group by customer_id\n",
        "\n",
        "\n",
        "\"\"\").show()"
      ],
      "execution_count": null,
      "outputs": [
        {
          "output_type": "stream",
          "text": [
            "+-----------+------------------+-----------+\n",
            "|customer_id|count(customer_id)|customer_id|\n",
            "+-----------+------------------+-----------+\n",
            "|   16121565|                 5|   16121565|\n",
            "|   48146680|                 1|   48146680|\n",
            "|   11062912|                 1|   11062912|\n",
            "|   51451778|                 1|   51451778|\n",
            "|   27920838|                 1|   27920838|\n",
            "|    4919528|                 3|    4919528|\n",
            "|   47802851|                 2|   47802851|\n",
            "|   42560427|                 1|   42560427|\n",
            "|   29467780|                 1|   29467780|\n",
            "|   49703087|                12|   49703087|\n",
            "|   38456994|                 4|   38456994|\n",
            "|     557836|                 1|     557836|\n",
            "|   43783459|                 1|   43783459|\n",
            "|   23607725|                 1|   23607725|\n",
            "|   45632184|                 1|   45632184|\n",
            "|   19979069|                 2|   19979069|\n",
            "|   28380959|                 1|   28380959|\n",
            "|   46563381|                 1|   46563381|\n",
            "|   21628739|                 3|   21628739|\n",
            "|   23042837|                 2|   23042837|\n",
            "+-----------+------------------+-----------+\n",
            "only showing top 20 rows\n",
            "\n"
          ],
          "name": "stdout"
        }
      ]
    },
    {
      "cell_type": "code",
      "metadata": {
        "id": "PUxCAoh6men3"
      },
      "source": [
        ""
      ],
      "execution_count": null,
      "outputs": []
    },
    {
      "cell_type": "code",
      "metadata": {
        "id": "lwv5a9Cnmely"
      },
      "source": [
        "products.write.jdbc(url=jdbc_url, table='products', mode=mode, properties=config)"
      ],
      "execution_count": null,
      "outputs": []
    },
    {
      "cell_type": "code",
      "metadata": {
        "id": "EKvWqgQ3meju"
      },
      "source": [
        "vine_table.write.jdbc(url=jdbc_url, table='vine_table', mode=mode, properties=config)"
      ],
      "execution_count": null,
      "outputs": []
    },
    {
      "cell_type": "code",
      "metadata": {
        "id": "qciBTLe6mehz"
      },
      "source": [
        "customers.write.jdbc(url=jdbc_url, table='customers', mode=mode, properties=config)"
      ],
      "execution_count": null,
      "outputs": []
    },
    {
      "cell_type": "code",
      "metadata": {
        "id": "2U3ENAeqmed1"
      },
      "source": [
        "review_id_table.write.jdbc(url=jdbc_url, table='review_id_table', mode=mode, properties=config)"
      ],
      "execution_count": null,
      "outputs": []
    }
  ]
}